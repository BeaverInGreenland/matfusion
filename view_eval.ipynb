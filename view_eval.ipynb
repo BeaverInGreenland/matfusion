{
 "cells": [
  {
   "cell_type": "code",
   "execution_count": 1,
   "id": "dde819e2-16e4-4caa-b690-1c163f3ad355",
   "metadata": {},
   "outputs": [],
   "source": [
    "from pathlib import Path\n",
    "from matplotlib import pyplot as plt\n",
    "import pandas as pd\n",
    "import numpy as np\n",
    "import json\n",
    "import statsmodels.api as sm"
   ]
  },
  {
   "cell_type": "code",
   "execution_count": 2,
   "id": "02ed2ea2-1366-4d4c-85b3-174b5fcc334d",
   "metadata": {},
   "outputs": [],
   "source": [
    "from matfusion_jax import vis, data"
   ]
  },
  {
   "cell_type": "code",
   "execution_count": 3,
   "id": "5336f073-8dfb-46ee-b34b-aa90566e0e17",
   "metadata": {},
   "outputs": [],
   "source": [
    "from ipywidgets import IntProgress\n",
    "from IPython.display import display"
   ]
  },
  {
   "cell_type": "markdown",
   "id": "4c67dcce-7a49-4fd0-937c-9ab5de3b1e66",
   "metadata": {},
   "source": [
    "# Load Results\n",
    "\n",
    "Specify the directories to load results from after running `eval.py` and `score.py`."
   ]
  },
  {
   "cell_type": "code",
   "execution_count": 6,
   "id": "e5149946-3397-45a9-a91e-fb74b95f48dc",
   "metadata": {},
   "outputs": [],
   "source": [
    "results_dirs = {\n",
    "    'flash': Path('./results/print_flash/test_rasterized/'),\n",
    "}"
   ]
  },
  {
   "cell_type": "code",
   "execution_count": 17,
   "id": "4193b818-9c53-4e30-a418-ee1d8ee6de14",
   "metadata": {},
   "outputs": [
    {
     "data": {
      "application/vnd.jupyter.widget-view+json": {
       "model_id": "536758d7616f49d5951d6c1d37874b0a",
       "version_major": 2,
       "version_minor": 0
      },
      "text/plain": [
       "IntProgress(value=0, max=1008)"
      ]
     },
     "metadata": {},
     "output_type": "display_data"
    }
   ],
   "source": [
    "ERROR_TYPES = [\n",
    "    'rmse_diffuse_error',\n",
    "    'rmse_specular_error',\n",
    "    'rmse_roughness_error',\n",
    "    'rmse_normals_error',\n",
    "    'lpips_albedo_error',\n",
    "    'l1_rerender_error',\n",
    "    'lpips_rerender_error',\n",
    "    'lpips_dome_error',\n",
    "]\n",
    "results = pd.DataFrame({\n",
    "    'dir': pd.Series(dtype=str),\n",
    "    'name': pd.Series(dtype=str),\n",
    "    'replicate': pd.Series(dtype=int),\n",
    "    **{ n: pd.Series(dtype=float) for n in ERROR_TYPES },\n",
    "})\n",
    "results_pbar = IntProgress(min=0, max=sum(len(list(d.iterdir())) for d in results_dirs.values()))\n",
    "display(results_pbar)\n",
    "for (dirname, d) in results_dirs.items():\n",
    "    true_loader = data.Loader(d / 'eval_dataset.yml')\n",
    "    est_loader = true_loader.with_svbrdfs(d)\n",
    "    for r in d.iterdir():\n",
    "        results_pbar.value += 1\n",
    "        try:\n",
    "            rid = json.loads((r / 'result_id.json').read_text())\n",
    "        except IOError or FileNotFoundError:\n",
    "            continue\n",
    "        row = { 'dir': dirname, 'name': rid['name'], 'replicate': rid['replicate'] }\n",
    "        for error_ty in ERROR_TYPES:\n",
    "            try:\n",
    "                row[error_ty] = float(est_loader.metadata_path(rid, error_ty).read_text())\n",
    "            except FileNotFoundError:\n",
    "                pass\n",
    "        results.loc[len(results)] = row"
   ]
  },
  {
   "cell_type": "markdown",
   "id": "7c688dca-0430-4e7d-8df1-2203dd953d78",
   "metadata": {},
   "source": [
    "# Perform Selection\n",
    "\n",
    "Most SVBRDF estimation techniques deterministically produce a single \"best\" SVBRDF which has minimized error. But MatFusion generates random samples from the conditional distribution of SVBRDFs. We have to somehow produce a most likely estimate from that distribution. As described in the paper, we can either\n",
    "\n",
    "1. Use a fixed seed so that a single random sample is considered our \"best\" estimate\n",
    "2. Sample 10 SVBRDFs and pick the one which rerenders most like the input image (minimizing lpips_rerender_error)"
   ]
  },
  {
   "cell_type": "code",
   "execution_count": 18,
   "id": "8e448d72-279d-4531-aad6-e35cd42a8585",
   "metadata": {},
   "outputs": [],
   "source": [
    "replicate_groups = results.groupby(['dir', 'name'], as_index=False)\n",
    "fixed_seed_results = replicate_groups.apply(lambda g: g.loc[g['replicate'] == 0])\n",
    "automatic_results = replicate_groups.apply(lambda g: g.iloc[g['lpips_rerender_error'].argmin()])"
   ]
  },
  {
   "cell_type": "markdown",
   "id": "0a17033f-1dc3-4f11-9345-7872e86e5485",
   "metadata": {},
   "source": [
    "# Mean Error Numbers"
   ]
  },
  {
   "cell_type": "code",
   "execution_count": 19,
   "id": "7fd2b378-1d20-4afd-b616-8de8d9666cc0",
   "metadata": {},
   "outputs": [
    {
     "data": {
      "text/html": [
       "<div>\n",
       "<style scoped>\n",
       "    .dataframe tbody tr th:only-of-type {\n",
       "        vertical-align: middle;\n",
       "    }\n",
       "\n",
       "    .dataframe tbody tr th {\n",
       "        vertical-align: top;\n",
       "    }\n",
       "\n",
       "    .dataframe thead th {\n",
       "        text-align: right;\n",
       "    }\n",
       "</style>\n",
       "<table border=\"1\" class=\"dataframe\">\n",
       "  <thead>\n",
       "    <tr style=\"text-align: right;\">\n",
       "      <th>dir</th>\n",
       "      <th>v1</th>\n",
       "      <th>v2</th>\n",
       "    </tr>\n",
       "  </thead>\n",
       "  <tbody>\n",
       "    <tr>\n",
       "      <th>rmse_diffuse_error</th>\n",
       "      <td>0.037329</td>\n",
       "      <td>0.046173</td>\n",
       "    </tr>\n",
       "    <tr>\n",
       "      <th>rmse_specular_error</th>\n",
       "      <td>0.079904</td>\n",
       "      <td>0.069670</td>\n",
       "    </tr>\n",
       "    <tr>\n",
       "      <th>rmse_roughness_error</th>\n",
       "      <td>0.115142</td>\n",
       "      <td>0.111924</td>\n",
       "    </tr>\n",
       "    <tr>\n",
       "      <th>rmse_normals_error</th>\n",
       "      <td>0.056152</td>\n",
       "      <td>0.053686</td>\n",
       "    </tr>\n",
       "    <tr>\n",
       "      <th>lpips_albedo_error</th>\n",
       "      <td>0.300793</td>\n",
       "      <td>0.303001</td>\n",
       "    </tr>\n",
       "    <tr>\n",
       "      <th>l1_rerender_error</th>\n",
       "      <td>0.021974</td>\n",
       "      <td>0.036892</td>\n",
       "    </tr>\n",
       "    <tr>\n",
       "      <th>lpips_rerender_error</th>\n",
       "      <td>0.093149</td>\n",
       "      <td>0.172049</td>\n",
       "    </tr>\n",
       "    <tr>\n",
       "      <th>lpips_dome_error</th>\n",
       "      <td>0.214226</td>\n",
       "      <td>0.222676</td>\n",
       "    </tr>\n",
       "  </tbody>\n",
       "</table>\n",
       "</div>"
      ],
      "text/plain": [
       "dir                         v1        v2\n",
       "rmse_diffuse_error    0.037329  0.046173\n",
       "rmse_specular_error   0.079904  0.069670\n",
       "rmse_roughness_error  0.115142  0.111924\n",
       "rmse_normals_error    0.056152  0.053686\n",
       "lpips_albedo_error    0.300793  0.303001\n",
       "l1_rerender_error     0.021974  0.036892\n",
       "lpips_rerender_error  0.093149  0.172049\n",
       "lpips_dome_error      0.214226  0.222676"
      ]
     },
     "execution_count": 19,
     "metadata": {},
     "output_type": "execute_result"
    }
   ],
   "source": [
    "fixed_seed_results.drop(columns=['replicate']).groupby('dir').mean().T"
   ]
  },
  {
   "cell_type": "code",
   "execution_count": 20,
   "id": "ff87236e-3225-45d9-94ae-bc90073d7e0f",
   "metadata": {},
   "outputs": [
    {
     "data": {
      "text/html": [
       "<div>\n",
       "<style scoped>\n",
       "    .dataframe tbody tr th:only-of-type {\n",
       "        vertical-align: middle;\n",
       "    }\n",
       "\n",
       "    .dataframe tbody tr th {\n",
       "        vertical-align: top;\n",
       "    }\n",
       "\n",
       "    .dataframe thead th {\n",
       "        text-align: right;\n",
       "    }\n",
       "</style>\n",
       "<table border=\"1\" class=\"dataframe\">\n",
       "  <thead>\n",
       "    <tr style=\"text-align: right;\">\n",
       "      <th>dir</th>\n",
       "      <th>v1</th>\n",
       "      <th>v2</th>\n",
       "    </tr>\n",
       "  </thead>\n",
       "  <tbody>\n",
       "    <tr>\n",
       "      <th>rmse_diffuse_error</th>\n",
       "      <td>0.038344</td>\n",
       "      <td>0.045074</td>\n",
       "    </tr>\n",
       "    <tr>\n",
       "      <th>rmse_specular_error</th>\n",
       "      <td>0.076174</td>\n",
       "      <td>0.066507</td>\n",
       "    </tr>\n",
       "    <tr>\n",
       "      <th>rmse_roughness_error</th>\n",
       "      <td>0.121223</td>\n",
       "      <td>0.118269</td>\n",
       "    </tr>\n",
       "    <tr>\n",
       "      <th>rmse_normals_error</th>\n",
       "      <td>0.054653</td>\n",
       "      <td>0.053639</td>\n",
       "    </tr>\n",
       "    <tr>\n",
       "      <th>lpips_albedo_error</th>\n",
       "      <td>0.301364</td>\n",
       "      <td>0.288428</td>\n",
       "    </tr>\n",
       "    <tr>\n",
       "      <th>l1_rerender_error</th>\n",
       "      <td>0.019246</td>\n",
       "      <td>0.033520</td>\n",
       "    </tr>\n",
       "    <tr>\n",
       "      <th>lpips_rerender_error</th>\n",
       "      <td>0.067896</td>\n",
       "      <td>0.145941</td>\n",
       "    </tr>\n",
       "    <tr>\n",
       "      <th>lpips_dome_error</th>\n",
       "      <td>0.204696</td>\n",
       "      <td>0.210894</td>\n",
       "    </tr>\n",
       "  </tbody>\n",
       "</table>\n",
       "</div>"
      ],
      "text/plain": [
       "dir                         v1        v2\n",
       "rmse_diffuse_error    0.038344  0.045074\n",
       "rmse_specular_error   0.076174  0.066507\n",
       "rmse_roughness_error  0.121223  0.118269\n",
       "rmse_normals_error    0.054653  0.053639\n",
       "lpips_albedo_error    0.301364  0.288428\n",
       "l1_rerender_error     0.019246  0.033520\n",
       "lpips_rerender_error  0.067896  0.145941\n",
       "lpips_dome_error      0.204696  0.210894"
      ]
     },
     "execution_count": 20,
     "metadata": {},
     "output_type": "execute_result"
    }
   ],
   "source": [
    "automatic_results.drop(columns=['replicate']).groupby('dir').mean().T"
   ]
  },
  {
   "cell_type": "markdown",
   "id": "e78e93cd-3837-481c-9328-4b52ae15ce07",
   "metadata": {},
   "source": [
    "# Visulize Results\n",
    "\n",
    "Thanks to ChatGPT for knowing how to use PyPlot better than I do."
   ]
  },
  {
   "cell_type": "code",
   "execution_count": 21,
   "id": "482e1c50-7ac3-46fe-836b-b9a47613365a",
   "metadata": {},
   "outputs": [
    {
     "data": {
      "image/png": "[encoded data removed]",
      "text/plain": [
       "<Figure size 800x800 with 2 Axes>"
      ]
     },
     "metadata": {},
     "output_type": "display_data"
    }
   ],
   "source": [
    "df_dict = { 'Fixed Seed': fixed_seed_results, 'Automatic': automatic_results }\n",
    "\n",
    "# Create subplots\n",
    "num_subplots = len(df_dict)\n",
    "fig, axes = plt.subplots(nrows=num_subplots, ncols=1, figsize=(8, 4*num_subplots), sharex=True)\n",
    "\n",
    "# Plot ECDF for each 'dir' in each dataframe\n",
    "for (axis, (t, df)) in zip(axes, df_dict.items()):\n",
    "    unique_dirs = df['dir'].unique()\n",
    "    for dir_value in unique_dirs:\n",
    "        subset = df[df['dir'] == dir_value]['lpips_dome_error']\n",
    "        ecdf = sm.distributions.ECDF(subset)\n",
    "        x = sorted(subset)\n",
    "        y = ecdf(x)\n",
    "        axis.step(x, y, label=dir_value)\n",
    "\n",
    "    axis.set_title(f'{t} LPIPS Render Error')\n",
    "    axis.legend()\n",
    "    axis.set_xlabel('LPIPS Error')\n",
    "    axis.set_ylabel('ECDF')\n",
    "\n",
    "plt.tight_layout()\n",
    "plt.show()"
   ]
  },
  {
   "cell_type": "code",
   "execution_count": null,
   "id": "20f98002-242f-48d1-a9e7-4839a92d7b05",
   "metadata": {},
   "outputs": [],
   "source": []
  }
 ],
 "metadata": {
  "kernelspec": {
   "display_name": "Python 3 (ipykernel)",
   "language": "python",
   "name": "python3"
  },
  "language_info": {
   "codemirror_mode": {
    "name": "ipython",
    "version": 3
   },
   "file_extension": ".py",
   "mimetype": "text/x-python",
   "name": "python",
   "nbconvert_exporter": "python",
   "pygments_lexer": "ipython3",
   "version": "3.9.13"
  }
 },
 "nbformat": 4,
 "nbformat_minor": 5
}
